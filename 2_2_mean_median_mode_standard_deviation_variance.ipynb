{
 "cells": [
  {
   "cell_type": "code",
   "execution_count": 2,
   "metadata": {},
   "outputs": [
    {
     "name": "stdout",
     "output_type": "stream",
     "text": [
      "[9, 4, 5, 10, 10]\n",
      "Mean: 7.6\n",
      "Median: 9\n",
      "Mode: 10\n",
      "Standard Deviation: 2.8809720581775866\n",
      "Variance: 8.3\n"
     ]
    }
   ],
   "source": [
    "#Experiment 2.2\n",
    "#Write a program to compute summary statistics such as mean, median, mode, standard deviation and variance of the given different types of data.\n",
    "import statistics\n",
    "import random\n",
    "\n",
    "def c_s_s(data):\n",
    "    mean=statistics.mean(data)\n",
    "    median=statistics.median(data)\n",
    "    try:\n",
    "        mode=statistics.mode(data)\n",
    "    except stastics.StasticsError:\n",
    "        mode=\"No Unique mode found\"\n",
    "    st_dev=statistics.stdev(data)\n",
    "    variance=statistics.variance(data)\n",
    "\n",
    "    return mean,median,mode,st_dev,variance\n",
    "\n",
    "n = []\n",
    "for i in range(5):\n",
    "    num = random.randint(1,10)\n",
    "    n.append(num)\n",
    "   \n",
    "print(n)\n",
    "\n",
    "mean,median,mode,st_dev,variance=c_s_s(n)\n",
    "\n",
    "# mean=statistics.mean(n)\n",
    "# median=statistics.median(n)\n",
    "# mode=statistics.mode(n)\n",
    "# st_dev=statistics.stdev(n)\n",
    "# varience=statistics.variance(n)\n",
    "\n",
    "print(\"Mean:\",mean)\n",
    "print(\"Median:\",median)\n",
    "print(\"Mode:\",mode)\n",
    "print(\"Standard Deviation:\",st_dev)\n",
    "print(\"Variance:\",variance)"
   ]
  },
  {
   "cell_type": "code",
   "execution_count": null,
   "metadata": {},
   "outputs": [],
   "source": []
  }
 ],
 "metadata": {
  "kernelspec": {
   "display_name": "Python 3 (ipykernel)",
   "language": "python",
   "name": "python3"
  },
  "language_info": {
   "codemirror_mode": {
    "name": "ipython",
    "version": 3
   },
   "file_extension": ".py",
   "mimetype": "text/x-python",
   "name": "python",
   "nbconvert_exporter": "python",
   "pygments_lexer": "ipython3",
   "version": "3.11.5"
  }
 },
 "nbformat": 4,
 "nbformat_minor": 4
}
