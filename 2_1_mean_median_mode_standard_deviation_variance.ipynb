{
 "cells": [
  {
   "cell_type": "code",
   "execution_count": 6,
   "metadata": {},
   "outputs": [
    {
     "name": "stdin",
     "output_type": "stream",
     "text": [
      "enter counts of number: 5\n",
      "enter the numbers: 1\n",
      "enter the numbers: 2\n",
      "enter the numbers: 3\n",
      "enter the numbers: 4\n",
      "enter the numbers: 1\n"
     ]
    },
    {
     "name": "stdout",
     "output_type": "stream",
     "text": [
      "[1, 2, 3, 4, 1]\n",
      "Mean: 2.2\n",
      "Median: 2\n",
      "Mode: 1\n",
      "Standard Deviation: 1.3038404810405297\n",
      "Variance: 1.7\n"
     ]
    }
   ],
   "source": [
    "#Experiment 2.1\n",
    "#Write a program to compute summary statistics such as mean, median, mode, standard deviation and variance of the given different types of data.\n",
    "import statistics\n",
    "\n",
    "\n",
    "def c_s_s(data):\n",
    "    mean=statistics.mean(data)\n",
    "    median=statistics.median(data)\n",
    "    try:\n",
    "        mode=statistics.mode(data)\n",
    "    except stastics.StasticsError:\n",
    "        mode=\"No Unique mode found\"\n",
    "    st_dev=statistics.stdev(data)\n",
    "    variance=statistics.variance(data)\n",
    "        \n",
    "    return mean,median,mode,st_dev,variance\n",
    "    \n",
    "n=int(input(\"enter counts of number:\"))\n",
    "numbers=[]\n",
    "for i in range(n):\n",
    "    a=int(input(\"enter the numbers:\"))\n",
    "    numbers.append(a)\n",
    "print(numbers)\n",
    "\n",
    "mean,median,mode,st_dev,variance=c_s_s(numbers)\n",
    "\n",
    "print(\"Mean:\",mean)\n",
    "print(\"Median:\",median)\n",
    "print(\"Mode:\",mode)\n",
    "print(\"Standard Deviation:\",st_dev)\n",
    "print(\"Variance:\",variance)"
   ]
  },
  {
   "cell_type": "code",
   "execution_count": null,
   "metadata": {},
   "outputs": [],
   "source": []
  }
 ],
 "metadata": {
  "kernelspec": {
   "display_name": "Python 3 (ipykernel)",
   "language": "python",
   "name": "python3"
  },
  "language_info": {
   "codemirror_mode": {
    "name": "ipython",
    "version": 3
   },
   "file_extension": ".py",
   "mimetype": "text/x-python",
   "name": "python",
   "nbconvert_exporter": "python",
   "pygments_lexer": "ipython3",
   "version": "3.11.5"
  }
 },
 "nbformat": 4,
 "nbformat_minor": 4
}
